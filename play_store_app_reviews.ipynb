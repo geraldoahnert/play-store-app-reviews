{
 "cells": [
  {
   "attachments": {},
   "cell_type": "markdown",
   "metadata": {},
   "source": [
    "# Play Store App Reviews - Doc"
   ]
  },
  {
   "cell_type": "code",
   "execution_count": null,
   "metadata": {},
   "outputs": [],
   "source": [
    "from google_play_scraper import reviews, Sort\n",
    "import pandas as pd\n",
    "import plotly.express as px\n",
    "import plotly.graph_objects as go\n",
    "from wordcloud import WordCloud"
   ]
  },
  {
   "attachments": {},
   "cell_type": "markdown",
   "metadata": {},
   "source": [
    "#### Setando as variávies."
   ]
  },
  {
   "cell_type": "code",
   "execution_count": null,
   "metadata": {},
   "outputs": [],
   "source": [
    "APP_ID = \"com.netflix.mediaclient\" # O App ID que queremos analisar. (Você encontra isso na URL do App no Google Play Store)\n",
    "LANGUAGE = \"pt-br\" # Língua.\n",
    "COUNTRY = \"br\" # País.\n",
    "\n",
    "TOTAL_ROWS_OF_DATA = 10000 # Aqui você coloca quantas avaliações você quer pegar, lembre-se que é a partir da avaliação mais recente."
   ]
  },
  {
   "attachments": {},
   "cell_type": "markdown",
   "metadata": {},
   "source": [
    "#### Rodando o request e pegando os dados."
   ]
  },
  {
   "cell_type": "code",
   "execution_count": null,
   "metadata": {},
   "outputs": [],
   "source": [
    "results, _ = reviews(\n",
    "    APP_ID,\n",
    "    lang=LANGUAGE,\n",
    "    country=COUNTRY,\n",
    "    sort=Sort.NEWEST,\n",
    "    count=TOTAL_ROWS_OF_DATA,\n",
    "    filter_score_with=None,\n",
    ")"
   ]
  },
  {
   "cell_type": "code",
   "execution_count": null,
   "metadata": {},
   "outputs": [],
   "source": [
    "data = []\n",
    "\n",
    "for result in results:\n",
    "    review_id = result[\"reviewId\"]\n",
    "    content = result[\"content\"]\n",
    "    score = result[\"score\"]\n",
    "    thumbs_up_count = result[\"thumbsUpCount\"]\n",
    "    review_created_version = result[\"reviewCreatedVersion\"]\n",
    "    at = result[\"at\"]\n",
    "    reply_content = result[\"replyContent\"]\n",
    "    replied_at = result[\"repliedAt\"]\n",
    "    app_version = result[\"appVersion\"]\n",
    "\n",
    "    data.append(\n",
    "        {\n",
    "            \"Review ID\": review_id,\n",
    "            \"Content\": content,\n",
    "            \"Score\": score,\n",
    "            \"Thumbs Up Count\": thumbs_up_count,\n",
    "            \"Review Created Version\": review_created_version,\n",
    "            \"At\": at,\n",
    "            \"Reply Content\": reply_content,\n",
    "            \"Replied At\": replied_at,\n",
    "            \"App Version\": app_version,\n",
    "        }\n",
    "    )\n",
    "\n",
    "df = pd.DataFrame(data)"
   ]
  },
  {
   "attachments": {},
   "cell_type": "markdown",
   "metadata": {},
   "source": [
    "#### Exibindo as cinco primeiras linhas dos dados."
   ]
  },
  {
   "cell_type": "code",
   "execution_count": null,
   "metadata": {},
   "outputs": [],
   "source": [
    "df.head()"
   ]
  },
  {
   "attachments": {},
   "cell_type": "markdown",
   "metadata": {},
   "source": [
    "### Gráfico de distribuição das pontuações.\n",
    "\n",
    "* Qual é a quantidade de avaliações para 1 estrela? Devemos nos preocupar? 🤔"
   ]
  },
  {
   "cell_type": "code",
   "execution_count": null,
   "metadata": {},
   "outputs": [],
   "source": [
    "score_counts = df['Score'].value_counts()\n",
    "score_counts = score_counts.sort_index()\n",
    "\n",
    "fig = px.bar(x=score_counts.index, y=score_counts.values, title='Distribuição das pontuações.')\n",
    "fig.update_layout(xaxis_title='Pontuação', yaxis_title='Contagem')\n",
    "\n",
    "fig.show()"
   ]
  },
  {
   "attachments": {},
   "cell_type": "markdown",
   "metadata": {},
   "source": [
    "### Analisando por versão do aplicativo.\n",
    "* Dos nossos dados, de qual versão tem mais avaliações?"
   ]
  },
  {
   "cell_type": "code",
   "execution_count": null,
   "metadata": {},
   "outputs": [],
   "source": [
    "value_counts = df['App Version'].value_counts()\n",
    "\n",
    "value_percentages = value_counts / len(df) * 100\n",
    "\n",
    "filtered_values = value_counts[value_percentages >= 5]\n",
    "filtered_value_percentages = value_percentages[value_percentages >= 5]\n",
    "\n",
    "fig = px.pie(values=filtered_values, names=filtered_values.index, title=\"Avaliações por versão do aplicativo. (Excluído < 5%)\")\n",
    "fig.show()"
   ]
  },
  {
   "cell_type": "code",
   "execution_count": null,
   "metadata": {},
   "outputs": [],
   "source": [
    "total_reviews = len(df)\n",
    "app_version_counts = df['App Version'].value_counts()\n",
    "threshold = total_reviews * 0.05 # Eliminando os 5% (a gordurinha :p)\n",
    "\n",
    "filtered_app_versions = app_version_counts[app_version_counts >= threshold]\n",
    "filtered_df = df[df['App Version'].isin(filtered_app_versions.index)]\n",
    "\n",
    "score_counts = filtered_df.groupby(['App Version', 'Score']).size().reset_index(name='Count')\n",
    "px.bar(score_counts, x='App Version', y='Count', color='Score', title='Contagem de Avaliações por Versão do Aplicativo e Pontuação. (Excluído 5%)',\n",
    "            labels={'Score': 'Pontuação', 'Count': 'Contagem de Avaliações'}, barmode='group', orientation='v')"
   ]
  },
  {
   "attachments": {},
   "cell_type": "markdown",
   "metadata": {},
   "source": [
    "### Comentários com curtidas.\n",
    "* Esse gráfico está nos mostrando quais são nossos comentários com mais curtidas e em qual avaliação ele se encontra. Abaixo vamos entrar no nível do detalhe."
   ]
  },
  {
   "cell_type": "code",
   "execution_count": null,
   "metadata": {},
   "outputs": [],
   "source": [
    "fig = px.scatter(df, x='Score', y='Thumbs Up Count', title='Gráfico de Dispersão de Avaliações e Contagem de Curtidas',\n",
    "                labels={'Score': 'Pontuação', 'Thumbs Up Count': 'Contagem de Curtidas'})\n",
    "\n",
    "fig.update_traces(marker=dict(size=10, opacity=0.5))\n",
    "fig.update_layout(hovermode='closest', hoverlabel=dict(namelength=-1))\n",
    "fig.update_xaxes(title='Pontuação')\n",
    "fig.update_yaxes(title='Contagem de Curtidas')\n",
    "\n",
    "fig.show()\n"
   ]
  },
  {
   "attachments": {},
   "cell_type": "markdown",
   "metadata": {},
   "source": [
    "* Quais são nossos comentários mais curtidos? A partir dos dados que temos."
   ]
  },
  {
   "cell_type": "code",
   "execution_count": null,
   "metadata": {},
   "outputs": [],
   "source": [
    "pd.set_option('display.max_colwidth', None)\n",
    "top_reviews = df.sort_values(by='Thumbs Up Count', ascending=False).head(10)\n",
    "top_reviews.reset_index(drop=True).drop(columns=['Review ID'])"
   ]
  },
  {
   "attachments": {},
   "cell_type": "markdown",
   "metadata": {},
   "source": [
    "* E que tal uma núvem de palavras a partir das avaliações?"
   ]
  },
  {
   "cell_type": "code",
   "execution_count": null,
   "metadata": {},
   "outputs": [],
   "source": [
    "text = ' '.join(df['Content'].tolist())\n",
    "\n",
    "wordcloud = WordCloud(width=800, height=400, background_color='white',\n",
    "                    max_words=100, max_font_size=100, colormap='winter').generate(text)\n",
    "\n",
    "fig = go.Figure(go.Image(z=wordcloud.to_image(), hoverinfo='skip'))\n",
    "fig.update_layout(title='Nuvem de palavras a partir dos comentários das avaliações.', showlegend=False, xaxis_visible=False, yaxis_visible=False)\n",
    "\n",
    "fig.show()"
   ]
  }
 ],
 "metadata": {
  "kernelspec": {
   "display_name": "play-store-app-reviews",
   "language": "python",
   "name": "python3"
  },
  "language_info": {
   "codemirror_mode": {
    "name": "ipython",
    "version": 3
   },
   "file_extension": ".py",
   "mimetype": "text/x-python",
   "name": "python",
   "nbconvert_exporter": "python",
   "pygments_lexer": "ipython3",
   "version": "3.9.16"
  },
  "orig_nbformat": 4
 },
 "nbformat": 4,
 "nbformat_minor": 2
}
