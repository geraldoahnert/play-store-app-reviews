{
 "cells": [
  {
   "attachments": {},
   "cell_type": "markdown",
   "metadata": {},
   "source": [
    "# Play Store App Reviews"
   ]
  },
  {
   "attachments": {},
   "cell_type": "markdown",
   "metadata": {},
   "source": [
    "A proposta é analisar um conjunto específico de avaliações de um aplicativo na Play Store e apresentar os resultados por meio de gráficos e tabelas. Essas representações visuais fornecerão informações atualizadas sobre os acontecimentos recentes relacionados ao aplicativo."
   ]
  },
  {
   "attachments": {},
   "cell_type": "markdown",
   "metadata": {},
   "source": [
    "Esse script é ideal se você:\n",
    "\n",
    "1. Quer saber o que os usuários estão falando do aplicativo da sua empresa/equipe.\n",
    "2. Quer saber o que os usuários estão falando do aplicativo da concorrência.\n",
    "3. Quer saber apenas por diversão."
   ]
  },
  {
   "attachments": {},
   "cell_type": "markdown",
   "metadata": {},
   "source": [
    "#### Instalando e importando bibliotecas."
   ]
  },
  {
   "cell_type": "code",
   "execution_count": null,
   "metadata": {},
   "outputs": [],
   "source": [
    "%pip install google-play-scraper"
   ]
  },
  {
   "cell_type": "code",
   "execution_count": null,
   "metadata": {},
   "outputs": [],
   "source": [
    "from google_play_scraper import app, reviews, Sort\n",
    "import pandas as pd\n",
    "import numpy as np\n",
    "import plotly.express as px\n",
    "import plotly.graph_objects as go\n",
    "from wordcloud import WordCloud"
   ]
  },
  {
   "attachments": {},
   "cell_type": "markdown",
   "metadata": {},
   "source": [
    "#### Setando as variávies."
   ]
  },
  {
   "attachments": {},
   "cell_type": "markdown",
   "metadata": {},
   "source": [
    "> Aqui você pode alterar as informações antes de rodar."
   ]
  },
  {
   "cell_type": "code",
   "execution_count": null,
   "metadata": {},
   "outputs": [],
   "source": [
    "APP_ID = \"com.netflix.mediaclient\" # O App ID que queremos analisar. (Você encontra isso na URL do App no Google Play Store)\n",
    "LANGUAGE = \"pt-br\" # Língua.\n",
    "COUNTRY = \"br\" # País.\n",
    "\n",
    "TOTAL_ROWS_OF_DATA = 10000 # Aqui você coloca quantas avaliações você quer pegar, lembre-se que é a partir da avaliação mais recente."
   ]
  },
  {
   "attachments": {},
   "cell_type": "markdown",
   "metadata": {},
   "source": [
    "#### Pegando os dados e organizando."
   ]
  },
  {
   "cell_type": "code",
   "execution_count": null,
   "metadata": {},
   "outputs": [],
   "source": [
    "app_infos = app(\n",
    "    APP_ID,\n",
    "    lang=LANGUAGE,\n",
    "    country=COUNTRY\n",
    ")"
   ]
  },
  {
   "cell_type": "code",
   "execution_count": null,
   "metadata": {},
   "outputs": [],
   "source": [
    "results, _ = reviews(\n",
    "    APP_ID,\n",
    "    lang=LANGUAGE,\n",
    "    country=COUNTRY,\n",
    "    sort=Sort.NEWEST,\n",
    "    count=TOTAL_ROWS_OF_DATA,\n",
    "    filter_score_with=None,\n",
    ")"
   ]
  },
  {
   "cell_type": "code",
   "execution_count": null,
   "metadata": {},
   "outputs": [],
   "source": [
    "df = pd.DataFrame(np.array(results), columns=['review'])\n",
    "df = df.join(pd.DataFrame(df.pop('review').tolist()))\n",
    "df = df.rename(columns={\n",
    "    \"reviewId\": \"Review ID\",\n",
    "    \"content\": \"Content\",\n",
    "    \"score\": \"Score\",\n",
    "    \"thumbsUpCount\": \"Thumbs Up Count\",\n",
    "    \"reviewCreatedVersion\": \"Review Created Version\",\n",
    "    \"at\": \"At\",\n",
    "    \"replyContent\": \"Reply Content\",\n",
    "    \"repliedAt\": \"Replied At\",\n",
    "    \"appVersion\": \"App Version\"\n",
    "})\n",
    "df = df.drop([\"userName\", \"userImage\"], axis=1)"
   ]
  },
  {
   "attachments": {},
   "cell_type": "markdown",
   "metadata": {},
   "source": [
    "### Informações gerais."
   ]
  },
  {
   "attachments": {},
   "cell_type": "markdown",
   "metadata": {},
   "source": [
    "> Aqui, vamos fornecer uma visualização abrangente do comportamento dos nossos dados, o que facilitará a análise. É importante ter em mente o intervalo de datas ao realizar qualquer análise."
   ]
  },
  {
   "cell_type": "code",
   "execution_count": null,
   "metadata": {},
   "outputs": [],
   "source": [
    "average_thumbs_up = df['Thumbs Up Count'].mean()\n",
    "response_percentage = (df['Reply Content'].notnull().sum() / len(df)) * 100\n",
    "total_reviews = len(df)\n",
    "\n",
    "df['At'] = pd.to_datetime(df['At'])\n",
    "min_date = df['At'].min().strftime('%d/%m/%Y')\n",
    "max_date = df['At'].max().strftime('%d/%m/%Y')\n",
    "average_score = df['Score'].mean()\n",
    "\n",
    "summary_df = pd.DataFrame({\n",
    "    'Aplicativo em análise': [app_infos['title']],\n",
    "    'Versão atual na Play Store': [app_infos['version']],\n",
    "    'Pontuação na Play Store': ['{:.2f}'.format(app_infos['score'])],\n",
    "    'Instalações na Play Store': [f\"{app_infos['realInstalls']:,}\"],\n",
    "    'Total de últimas reviews que vamos analisar': [total_reviews],\n",
    "    'Dos dados que pegamos, menor data de review': [min_date],\n",
    "    'Dos dados que pegamos, maior data de review': [max_date],\n",
    "    'Dos dados que pegamos, média das avaliações': ['{:.2f}'.format(average_score)],\n",
    "    'Dos dados que pegamos, número médio de curtidas por review': ['{:.2f}'.format(average_thumbs_up)],\n",
    "    'Dos dados que pegamos, porcentagem de reviews com resposta': [response_percentage]\n",
    "})\n",
    "\n",
    "summary_df = summary_df.T\n",
    "summary_df.columns = ['Valor']\n",
    "summary_df"
   ]
  },
  {
   "attachments": {},
   "cell_type": "markdown",
   "metadata": {},
   "source": [
    "### Pontuações."
   ]
  },
  {
   "attachments": {},
   "cell_type": "markdown",
   "metadata": {},
   "source": [
    "> Através do gráfico abaixo, é possível visualizar as avaliações."
   ]
  },
  {
   "cell_type": "code",
   "execution_count": null,
   "metadata": {},
   "outputs": [],
   "source": [
    "score_counts = df['Score'].value_counts().reset_index()\n",
    "score_counts.columns = ['Score', 'Count']\n",
    "\n",
    "px.bar(score_counts, x='Score', y='Count', title='Número de avaliações por estrela.')"
   ]
  },
  {
   "attachments": {},
   "cell_type": "markdown",
   "metadata": {},
   "source": [
    "> No gráfico abaixo você irá saber qual o **saldo** das avaliações por dia do aplicativo. Positivo, negativo e neutro."
   ]
  },
  {
   "cell_type": "code",
   "execution_count": null,
   "metadata": {},
   "outputs": [],
   "source": [
    "df['At'] = pd.to_datetime(df['At'])\n",
    "df['Data'] = df['At'].dt.date\n",
    "df['Sentimento'] = pd.cut(df['Score'], bins=[0, 2, 3, 5], labels=['Negativo', 'Neutro', 'Positivo'])\n",
    "\n",
    "grouped_df = df.groupby(['Data', 'Sentimento']).size().reset_index(name='Contagem')\n",
    "fig = px.bar(grouped_df, x='Data', y='Contagem', color='Sentimento', title='Como anda o saldo das nossas avaliações por dia?',\n",
    "            barmode='stack')\n",
    "\n",
    "fig.add_annotation(\n",
    "    text='São avaliações positivas maiores que 3 e negativas menores que 3. Neutras são 3.',\n",
    "    xref='paper',\n",
    "    yref='paper',\n",
    "    x=0.5,\n",
    "    y=1.1,\n",
    "    showarrow=False,\n",
    "    font=dict(size=12)\n",
    ")\n",
    "\n",
    "fig.show()"
   ]
  },
  {
   "attachments": {},
   "cell_type": "markdown",
   "metadata": {},
   "source": [
    "> No gráfico abaixo vamos conseguir ver as **versões** do aplicativo e suas respectivas avaliações."
   ]
  },
  {
   "cell_type": "code",
   "execution_count": null,
   "metadata": {},
   "outputs": [],
   "source": [
    "app_version_counts = df['App Version'].value_counts(normalize=True) * 100\n",
    "\n",
    "filtered_app_versions = app_version_counts[app_version_counts >= 5]\n",
    "filtered_df = df[df['App Version'].isin(filtered_app_versions.index)]\n",
    "\n",
    "score_counts = filtered_df.groupby(['Score', 'App Version']).size().reset_index(name='Count')\n",
    "score_counts = score_counts.sort_values('Score')\n",
    "\n",
    "fig = px.bar(score_counts, x='Score', y='Count', color='App Version', title='Distribuição dos pontos por versão de aplicativo.',\n",
    "            barmode='group')\n",
    "fig.update_layout(xaxis_title='Avaliação', yaxis_title='Contagem')\n",
    "\n",
    "fig.add_annotation(\n",
    "    text='De todas nossas versões, estamos analisando apenas as que possuem mais dados. Ou seja, apenas versões mais avaliadas.',\n",
    "    xref='paper',\n",
    "    yref='paper',\n",
    "    x=0.5,\n",
    "    y=1.1,\n",
    "    showarrow=False,\n",
    "    font=dict(size=12)\n",
    ")\n",
    "\n",
    "fig.show()"
   ]
  },
  {
   "attachments": {},
   "cell_type": "markdown",
   "metadata": {},
   "source": [
    "### Comentários."
   ]
  },
  {
   "attachments": {},
   "cell_type": "markdown",
   "metadata": {},
   "source": [
    "> Aqui vamos saber quais são os nossos **comentários mais curtidos**, as **reclamações** e os **elogios** dos usuários."
   ]
  },
  {
   "cell_type": "code",
   "execution_count": null,
   "metadata": {},
   "outputs": [],
   "source": [
    "QUANTIDADE_COMENTARIOS = 10 # Você pode editar isso! ;)\n",
    "\n",
    "pd.set_option('display.max_colwidth', None)\n",
    "top_reviews = df.sort_values(by='Thumbs Up Count', ascending=False).head(QUANTIDADE_COMENTARIOS)\n",
    "top_reviews = top_reviews.reset_index(drop=True).drop(columns=['Review ID', 'Reply Content', 'Replied At'])\n",
    "top_reviews = top_reviews.rename(columns={\n",
    "    \"Content\": \"Comentário\",\n",
    "    \"Score\": \"Nota\",\n",
    "    \"Thumbs Up Count\": \"Curtidas\",\n",
    "    \"Review Created Version\": \"Versão do usuário\",\n",
    "    \"At\": \"Avaliado em\",\n",
    "    \"App Version\": \"Versão do app\"\n",
    "})\n",
    "desired_order = ['Sentimento', 'Nota', 'Curtidas', 'Comentário', 'Versão do usuário', 'Versão do app', 'Data']\n",
    "top_reviews = top_reviews.reindex(columns=desired_order)\n",
    "top_reviews"
   ]
  },
  {
   "attachments": {},
   "cell_type": "markdown",
   "metadata": {},
   "source": [
    "> Núvem de palavras com os comentários dos usuários."
   ]
  },
  {
   "cell_type": "code",
   "execution_count": null,
   "metadata": {},
   "outputs": [],
   "source": [
    "text = ' '.join(df['Content'].astype(str))\n",
    "\n",
    "wordcloud = WordCloud(width=800, height=400, background_color='white',\n",
    "                    max_words=100, max_font_size=100, colormap='winter')\n",
    "wordcloud.generate_from_text(text)\n",
    "\n",
    "fig = go.Figure(data=go.Image(z=wordcloud.to_image()))\n",
    "fig.update_layout(showlegend=False, xaxis_visible=False, yaxis_visible=False)\n",
    "\n",
    "fig.show()"
   ]
  }
 ],
 "metadata": {
  "kernelspec": {
   "display_name": "play-store-app-reviews",
   "language": "python",
   "name": "python3"
  },
  "language_info": {
   "codemirror_mode": {
    "name": "ipython",
    "version": 3
   },
   "file_extension": ".py",
   "mimetype": "text/x-python",
   "name": "python",
   "nbconvert_exporter": "python",
   "pygments_lexer": "ipython3",
   "version": "3.9.16"
  },
  "orig_nbformat": 4
 },
 "nbformat": 4,
 "nbformat_minor": 2
}
