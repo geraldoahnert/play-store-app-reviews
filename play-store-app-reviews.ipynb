{
 "cells": [
  {
   "cell_type": "code",
   "execution_count": null,
   "metadata": {},
   "outputs": [],
   "source": [
    "from google_play_scraper import reviews, Sort\n",
    "import pandas as pd"
   ]
  },
  {
   "cell_type": "code",
   "execution_count": null,
   "metadata": {},
   "outputs": [],
   "source": [
    "APP_ID = \"\"\n",
    "LANGUAGE = \"pt-br\"\n",
    "COUNTRY = \"br\""
   ]
  },
  {
   "cell_type": "code",
   "execution_count": null,
   "metadata": {},
   "outputs": [],
   "source": [
    "results, _ = reviews(\n",
    "    APP_ID,\n",
    "    lang=LANGUAGE,\n",
    "    country=COUNTRY,\n",
    "    sort=Sort.NEWEST,\n",
    "    count=1000,\n",
    "    filter_score_with=None,\n",
    ")"
   ]
  },
  {
   "cell_type": "code",
   "execution_count": null,
   "metadata": {},
   "outputs": [],
   "source": [
    "data = []\n",
    "\n",
    "for result in results:\n",
    "    review_id = result[\"reviewId\"]\n",
    "    content = result[\"content\"]\n",
    "    score = result[\"score\"]\n",
    "    thumbs_up_count = result[\"thumbsUpCount\"]\n",
    "    review_created_version = result[\"reviewCreatedVersion\"]\n",
    "    at = result[\"at\"]\n",
    "    reply_content = result[\"replyContent\"]\n",
    "    replied_at = result[\"repliedAt\"]\n",
    "    app_version = result[\"appVersion\"]\n",
    "\n",
    "    data.append(\n",
    "        {\n",
    "            \"Review ID\": review_id,\n",
    "            \"Content\": content,\n",
    "            \"Score\": score,\n",
    "            \"Thumbs Up Count\": thumbs_up_count,\n",
    "            \"Review Created Version\": review_created_version,\n",
    "            \"At\": at,\n",
    "            \"Reply Content\": reply_content,\n",
    "            \"Replied At\": replied_at,\n",
    "            \"App Version\": app_version,\n",
    "        }\n",
    "    )\n",
    "\n",
    "df = pd.DataFrame(data)"
   ]
  },
  {
   "cell_type": "code",
   "execution_count": null,
   "metadata": {},
   "outputs": [],
   "source": [
    "df.head()"
   ]
  }
 ],
 "metadata": {
  "language_info": {
   "name": "python"
  },
  "orig_nbformat": 4
 },
 "nbformat": 4,
 "nbformat_minor": 2
}
